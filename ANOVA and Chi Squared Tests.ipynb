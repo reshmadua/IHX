{
 "cells": [
  {
   "cell_type": "markdown",
   "id": "b2cac6df",
   "metadata": {},
   "source": [
    "<center><h1>IHX</h1></center> \n",
    "<center><h1>Task-1 : ANOVA and Chi-Squared Tests</h1></center> "
   ]
  },
  {
   "cell_type": "code",
   "execution_count": 1,
   "id": "7c7fdbc2",
   "metadata": {},
   "outputs": [],
   "source": [
    "import pandas as pd\n",
    "import numpy as np\n",
    "\n",
    "# for the statistical tests\n",
    "from scipy import stats\n",
    "\n",
    "# -------------Mean-------------\n",
    "def mean(series):\n",
    "    return sum(series)/len(series)\n",
    "# ------------------------------"
   ]
  },
  {
   "cell_type": "markdown",
   "id": "15c567e1",
   "metadata": {},
   "source": [
    "<center><h1>T-Test</h1></center>"
   ]
  },
  {
   "cell_type": "markdown",
   "id": "6794be62",
   "metadata": {},
   "source": [
    "### Q1. There are 2 medicines developed by the competition and the researchers have been assigned a task to see if there is any difference in the reaction time between the two. Both the medicines were tested on 5 patients, and the data is represented below.\n",
    "\n",
    "#### H0: There is no difference in the reaction times\n",
    "#### H1: There is a difference in the reaction times\n",
    "\n",
    "> Since there are only 2 meds that we are comparing, we can easily use a t-test."
   ]
  },
  {
   "cell_type": "code",
   "execution_count": 12,
   "id": "a4e80fd6",
   "metadata": {},
   "outputs": [
    {
     "name": "stdout",
     "output_type": "stream",
     "text": [
      "Data Frame:\n",
      "\n",
      "    med_1  med_2\n",
      "0      29     27\n",
      "1      30     27\n",
      "2      31     28\n",
      "3      31     31\n",
      "4      29     27\n",
      "5      29     27\n",
      "6      30     27\n",
      "7      31     28\n",
      "8      31     31\n",
      "9      29     27\n",
      "10     29     27\n",
      "11     30     27\n",
      "12     31     28\n",
      "13     31     31\n",
      "14     29     27\n",
      "\n",
      "- Test statistic is 4.183300\n",
      "- p-value is 0.000257\n",
      "\n",
      "- Mean for med_1: 30.00\n",
      "- Mean for med_2: 28.00\n",
      "\n",
      "Since the p-value: 0.00 < alpha: 0.05, We reject the null hypothesis.\n"
     ]
    }
   ],
   "source": [
    "# ==================================================DATA==================================================\n",
    "# -----Test 1: Data set has 5 records per med:-----\n",
    "# df = {'med_1':[29,30,31,31,29], \n",
    "#       'med_2':[27,27,28,31,27]}\n",
    "#--------------------------------------------------\n",
    "\n",
    "# -----Test 2: Data set has 15 records per med:----\n",
    "# creating the data to be used. [sample size increased to 15]\n",
    "# The data was created by repeating the same value, but as the sample size increased our \n",
    "\n",
    "df = {'med_1':[29,30,31,31,29,29,30,31,31,29,29,30,31,31,29], \n",
    "      'med_2':[27,27,28,31,27,27,27,28,31,27,27,27,28,31,27]}\n",
    "#--------------------------------------------------\n",
    "# ========================================================================================================\n",
    "\n",
    "\n",
    "df = pd.DataFrame(df)\n",
    "print('Data Frame:',df, sep='\\n\\n',end='\\n\\n')\n",
    "\n",
    "# T-test:\n",
    "\n",
    "t_value,p_value=stats.ttest_ind(df['med_1'],df['med_2'])\n",
    "print('- Test statistic is %f'%float(\"{:.6f}\".format(t_value)))\n",
    "print('- p-value is %f'%p_value, end='\\n\\n')\n",
    "alpha = 0.05\n",
    "\n",
    "print('- Mean for med_1: {:.2f}'.format(mean(df['med_1'])))\n",
    "print('- Mean for med_2: {:.2f}'.format(mean(df['med_2'])),end='\\n\\n')\n",
    "\n",
    "if(p_value>=alpha):\n",
    "    print('Conclusion:','Since the p-value: {:.2f} > or = alpha: {:.2f}, We fail to reject the null hypothesis.'.format(p_value,alpha),sep='\\n')\n",
    "else:\n",
    "    print('Since the p-value: {:.2f} < alpha: {:.2f}, We reject the null hypothesis.'.format(p_value,alpha))"
   ]
  },
  {
   "cell_type": "markdown",
   "id": "5c296c86",
   "metadata": {},
   "source": [
    "<br><br><br>\n",
    "<center><h1>ANOVA</h1></center>"
   ]
  },
  {
   "cell_type": "markdown",
   "id": "41dc193e",
   "metadata": {},
   "source": [
    "### Q2. The company now wants to see if their medicine has a different reaction time than the ones mentioned above.\n",
    "\n",
    "#### H0: There is no difference in the reaction times\n",
    "#### H1: There is a difference in the reaction times\n",
    "\n",
    "> Since there are 3 meds in comparision, we can use a t-test but we need to use it for all combinations of the medicines as a <code>T-test</code> can only be performed on 2 groups at a time. <code>ANOVA</code> helps us understand it better here as it can perform the test on more than 2 groups."
   ]
  },
  {
   "cell_type": "code",
   "execution_count": 14,
   "id": "c2700733",
   "metadata": {},
   "outputs": [
    {
     "name": "stdout",
     "output_type": "stream",
     "text": [
      "Data Frame:\n",
      "\n",
      "    med_1  med_2  med_3\n",
      "0      29     17     10\n",
      "1      29     18     11\n",
      "2      30     19     12\n",
      "3      31     19     12\n",
      "4      31     20     13\n",
      "5      29     17     10\n",
      "6      29     18     11\n",
      "7      30     19     12\n",
      "8      31     19     12\n",
      "9      31     20     13\n",
      "10     29     17     10\n",
      "11     29     18     11\n",
      "12     30     19     12\n",
      "13     31     19     12\n",
      "14     31     20     13\n",
      "\n",
      "- Test statistic is 1257.861111\n",
      "- p-value is 0.000000\n",
      "\n",
      "- Mean for med_1: 30.00\n",
      "- Mean for med_2: 18.60\n",
      "- Mean for med_3: 11.60\n",
      "\n",
      "Since the p-value: 0.00 < alpha: 0.05, We reject the null hypothesis.\n"
     ]
    }
   ],
   "source": [
    "# ==================================================DATA==================================================\n",
    "# ----------Test 1: Checking similar data groups:------------\n",
    "# df = {'med_1':[29,30,31,31,29,29,30,31,31,29,29,30,31,31,29], \n",
    "#       'med_2':[28,29,27,30,29,28,29,27,30,29,28,29,27,30,29], \n",
    "#       'med_3':[25,28,29,27,29,25,28,29,27,29,25,28,29,27,29]}\n",
    "# ------------------------------------------------------------\n",
    "\n",
    "# Test 2: variation is similar between groups but not within groups\n",
    "\n",
    "# df = {'med_1':[10,12,18,24,36,10,12,18,24,36,10,12,18,24,36], \n",
    "#       'med_2':[11,14,19,23,38,11,14,19,23,38,11,14,19,23,38], \n",
    "#       'med_3':[12,13,17,25,37,12,13,17,25,37,12,13,17,25,37]}\n",
    "# ------------------------------------------------------------\n",
    "\n",
    "# Test 3: variation is similar within groups but not between groups\n",
    "\n",
    "df = {'med_1':[29,29,30,31,31,29,29,30,31,31,29,29,30,31,31], \n",
    "      'med_2':[17,18,19,19,20,17,18,19,19,20,17,18,19,19,20], \n",
    "      'med_3':[10,11,12,12,13,10,11,12,12,13,10,11,12,12,13]}\n",
    "# ------------------------------------------------------------\n",
    "# ========================================================================================================\n",
    "\n",
    "\n",
    "df = pd.DataFrame(df)\n",
    "print('Data Frame:',df, sep='\\n\\n',end='\\n\\n')\n",
    "\n",
    "# one-way ANOVA:\n",
    "\n",
    "t_value,p_value=stats.f_oneway(df['med_1'], df['med_2'], df['med_3'])\n",
    "print('- Test statistic is %f'%float(\"{:.6f}\".format(t_value)))\n",
    "print('- p-value is %f'%p_value, end='\\n\\n')\n",
    "alpha = 0.05\n",
    "\n",
    "print('- Mean for med_1: {:.2f}'.format(mean(df['med_1'])))\n",
    "print('- Mean for med_2: {:.2f}'.format(mean(df['med_2'])))\n",
    "print('- Mean for med_3: {:.2f}'.format(mean(df['med_3'])),end='\\n\\n')\n",
    "\n",
    "if(p_value>=alpha):\n",
    "    print('Conclusion:','Since the p-value: {:.2f} > or = alpha: {:.2f}, We fail to reject the null hypothesis.'.format(p_value,alpha),sep='\\n')\n",
    "else:\n",
    "    print('Since the p-value: {:.2f} < alpha: {:.2f}, We reject the null hypothesis.'.format(p_value,alpha))"
   ]
  },
  {
   "cell_type": "markdown",
   "id": "67003c28",
   "metadata": {},
   "source": [
    " <br><br><br>\n",
    "<center><h1>Goodness of Fit</h1></center>\n",
    "<br><br>\n",
    "- Chi-Square goodness of fit test is a non-parametric test that is used to find out how the observed value of a given phenomena is significantly different from the expected value. <br> \n",
    "- In Chi-Square goodness of fit test, the term goodness of fit is used to compare the observed sample distribution with the expected probability distribution. <br>\n",
    "- Chi-Square goodness of fit test determines how well theoretical distribution (such as normal, binomial, or Poisson) fits the empirical distribution.\n",
    "\n",
    "### When can we use the test?\n",
    "We can use the test when we have counts of values for a categorical variable."
   ]
  },
  {
   "cell_type": "markdown",
   "id": "ac3221b3",
   "metadata": {},
   "source": [
    "## Q1) A hospital claims that an equal number of patients come into their hospital each weekday. To test this hypothesis, a researcher records the number of patients that come into the hospital in a given week and finds the following:\n",
    "\n",
    "<br>\n",
    "\n",
    "<table border=\"1\" \n",
    "       align=\"left\"\n",
    "       width=40%>\n",
    "    <tr>\n",
    "        <th>Day of the Week</th>\n",
    "        <th>No. of Patients</th>\n",
    "    </tr>\n",
    "    <tr>\n",
    "        <th>Monday</th>\n",
    "        <td>50</td>\n",
    "    </tr>\n",
    "    <tr>\n",
    "        <th>Tuesday</th>\n",
    "        <td>60</td>\n",
    "    </tr>\n",
    "    <tr>\n",
    "        <th>Wednesday</th>\n",
    "        <td>40</td>\n",
    "    </tr>\n",
    "    <tr>\n",
    "        <th>Thursday</th>\n",
    "        <td>47</td>\n",
    "    </tr>\n",
    "    <tr>\n",
    "        <th>Friday</th>\n",
    "        <td>53</td>\n",
    "    </tr>\n",
    "</table>"
   ]
  },
  {
   "cell_type": "markdown",
   "id": "5630cca2",
   "metadata": {},
   "source": [
    "#### We will now perform Chi-Square goodness of fit test in Python to determine if the data is consistent with the hospital's claim. Defining our hypothesis as follows:\n",
    "\n",
    "#### H0: Equal number of patients come into the hospital each weekday\n",
    "#### H1: Claim made by the hospital is incorrect\n",
    "<br> (or)\n",
    "####  H0: Follows Uniform distribution\n",
    "####  H1: Does not follow a Uniform distribution"
   ]
  },
  {
   "cell_type": "code",
   "execution_count": 4,
   "id": "60047e0a",
   "metadata": {},
   "outputs": [],
   "source": [
    "# Creating two arrays to hold the observed and expected number of customers for each day\n",
    "expected = [50, 50, 50, 50, 50]\n",
    "observed = [50, 60, 40, 47, 53]"
   ]
  },
  {
   "cell_type": "code",
   "execution_count": 5,
   "id": "eb6003a3",
   "metadata": {},
   "outputs": [
    {
     "name": "stdout",
     "output_type": "stream",
     "text": [
      "Test statistic is 4.360000\n",
      "p-value is 0.359472\n",
      "\n",
      "Conclusion:\n",
      "Since the p-value: 0.36 > or = alpha: 0.05, We fail to reject the null hypothesis.\n"
     ]
    }
   ],
   "source": [
    "# Performing Chi-Square Goodness of Fit Test\n",
    "test_stat, p_value = stats.chisquare(f_obs=observed, f_exp=expected)\n",
    "print('Test statistic is %f'%float(\"{:.6f}\".format(test_stat)))\n",
    "print('p-value is %f'%p_value, end='\\n\\n')\n",
    "alpha = 0.05\n",
    "if(p_value>=alpha):\n",
    "    print('Conclusion:','Since the p-value: {:.2f} > or = alpha: {:.2f}, We fail to reject the null hypothesis.'.format(p_value,alpha),sep='\\n')\n",
    "else:\n",
    "    print('Since the p-value: {:.2f} < alpha: {:.2f}, We reject the null hypothesis.'.format(p_value,alpha))"
   ]
  },
  {
   "cell_type": "markdown",
   "id": "a95b6791",
   "metadata": {},
   "source": [
    "#### NOTE: This means we do not have sufficient evidence to say that the true distribution of patients is different from the distribution that the hospital claimed."
   ]
  },
  {
   "cell_type": "markdown",
   "id": "73f6b7bf",
   "metadata": {},
   "source": [
    "<br><br>\n",
    "## Q2)  In a hall of 75 people, 11 are left handed. Does this fit the prevailing theory that 12% of people are left handed?\n",
    "#### H0: 12% of people are left handed\n",
    "#### H1: Prevailing theory is incorrect \n",
    "<br>              (or)\n",
    "#### H0: π = 0.12 (π refers to the Population Proportion)\n",
    "#### H1: π ≠ 0.12 "
   ]
  },
  {
   "cell_type": "code",
   "execution_count": 6,
   "id": "3751dc93",
   "metadata": {},
   "outputs": [],
   "source": [
    "# Creating two arrays to hold the observed and expected number of customers for each day\n",
    "expected = [9,66]\n",
    "observed = [11,64]"
   ]
  },
  {
   "cell_type": "code",
   "execution_count": 7,
   "id": "fd0e635d",
   "metadata": {},
   "outputs": [
    {
     "name": "stdout",
     "output_type": "stream",
     "text": [
      "Test statistic is 0.505051\n",
      "p-value is 0.477289\n",
      "\n",
      "Conclusion:\n",
      "Since the p-value: 0.48 > or = alpha: 0.05, We fail to reject the null hypothesis.\n"
     ]
    }
   ],
   "source": [
    "# Performing Chi-Square Goodness of Fit Test\n",
    "test_stat, p_value = stats.chisquare(f_obs=observed, f_exp=expected)\n",
    "print('Test statistic is %f'%float(\"{:.6f}\".format(test_stat)))\n",
    "print('p-value is %f'%p_value, end='\\n\\n')\n",
    "alpha = 0.05\n",
    "if(p_value>=alpha):\n",
    "    print('Conclusion:','Since the p-value: {:.2f} > or = alpha: {:.2f}, We fail to reject the null hypothesis.'.format(p_value,alpha),sep='\\n')\n",
    "else:\n",
    "    print('Since the p-value: {:.2f} < alpha: {:.2f}, We reject the null hypothesis.'.format(p_value,alpha))"
   ]
  },
  {
   "cell_type": "markdown",
   "id": "11c27397",
   "metadata": {},
   "source": [
    "#### NOTE: This means there is not enough evidence to suggest the proportion of left handed people is other than 0.12."
   ]
  },
  {
   "cell_type": "markdown",
   "id": "4ed2a274",
   "metadata": {},
   "source": [
    "<br><br>\n",
    "## Q3) In an experiment 500 plant seeds were considered out of which 412 were rounded and 88 were wrinkled. Is this in accordance with Mendel's pea plant theory in which the F2 generation always produced a 3:1 ratio where the dominant trait is present three times as often as the recessive trait. (Hypothetical example)\n",
    "\n",
    "#### H0: Dominant trait is present three times as the recessive trait\n",
    "#### H1: Prevailing mendelian theory is incorrect "
   ]
  },
  {
   "cell_type": "code",
   "execution_count": 15,
   "id": "0df08085",
   "metadata": {},
   "outputs": [],
   "source": [
    "# Creating two arrays to hold the observed and expected number of customers for each day\n",
    "# expected = [375,125]\n",
    "# observed = [412,88]\n",
    "\n",
    "expected = [375,125]\n",
    "observed = [370,130]"
   ]
  },
  {
   "cell_type": "code",
   "execution_count": 16,
   "id": "fcceeb49",
   "metadata": {},
   "outputs": [
    {
     "name": "stdout",
     "output_type": "stream",
     "text": [
      "Test statistic is 0.266667\n",
      "p-value is 0.605577\n",
      "\n",
      "Conclusion:\n",
      "Since the p-value: 0.61 > or = alpha: 0.05, We fail to reject the null hypothesis.\n"
     ]
    }
   ],
   "source": [
    "# Performing Chi-Square Goodness of Fit Test\n",
    "test_stat, p_value = stats.chisquare(f_obs=observed, f_exp=expected)\n",
    "print('Test statistic is %f'%float(\"{:.6f}\".format(test_stat)))\n",
    "print('p-value is %f'%p_value, end='\\n\\n')\n",
    "alpha = 0.05\n",
    "if(p_value>=alpha):\n",
    "    print('Conclusion:','Since the p-value: {:.2f} > or = alpha: {:.2f}, We fail to reject the null hypothesis.'.format(p_value,alpha),sep='\\n')\n",
    "else:\n",
    "    print('Since the p-value: {:.2f} < alpha: {:.2f}, We reject the null hypothesis.'.format(p_value,alpha))"
   ]
  },
  {
   "cell_type": "markdown",
   "id": "5c185b1a",
   "metadata": {},
   "source": [
    "#### NOTE: The result contradicts with the mendelian theory."
   ]
  },
  {
   "cell_type": "markdown",
   "id": "8b534593",
   "metadata": {},
   "source": [
    "<br> <br><br>\n",
    "<center><h1>Chi-Square test of Independence</h1></center>\n",
    "\n",
    "-The Chi-square test of independence is a statistical hypothesis test used to determine whether two categorical or nominal variables are likely to be related or not.<br>\n",
    "-It is used to determine whether or not there is a significant association between two categorical variables.\n",
    "\n",
    "### When can we use the test?\n",
    "We can use the test when we have counts of values for two categorical variables."
   ]
  },
  {
   "cell_type": "markdown",
   "id": "9bd832ba",
   "metadata": {},
   "source": [
    "### Q1) Determine whether or not gender is associated with political party preference. Consider taking a simple random sample of 500 voters and surveying them on their political party preference. The following table shows the results of the survey:"
   ]
  },
  {
   "cell_type": "markdown",
   "id": "c9496713",
   "metadata": {},
   "source": [
    "<br><br>\n",
    "<table border=\"1\" \n",
    "       align=\"left\"\n",
    "       width=50%>\n",
    "    <tr>\n",
    "      <th></th>\n",
    "      <th colspan=\"3\"><center>Political party</center></th>\n",
    "    </tr>\n",
    "    <tr>\n",
    "      <th>Gender</th>\n",
    "      <th>BJP</th>\n",
    "      <th>SP</th>\n",
    "      <th>INC</th>\n",
    "    </tr>\n",
    "    <tr>\n",
    "        <td>Male</td>\n",
    "        <td>110</td>\n",
    "        <td>90</td>\n",
    "        <td>40</td>\n",
    "    </tr>\n",
    "    <tr>\n",
    "        <td>Female</td>\n",
    "        <td>130</td>\n",
    "        <td>95</td>\n",
    "        <td>45</td>\n",
    "    </tr>\n",
    "</table>"
   ]
  },
  {
   "cell_type": "markdown",
   "id": "9fe84327",
   "metadata": {},
   "source": [
    "#### H0: (null hypothesis) The two variables are independent.\n",
    "#### H1: (alternative hypothesis) The two variables are not independent."
   ]
  },
  {
   "cell_type": "code",
   "execution_count": 10,
   "id": "9878a73b",
   "metadata": {},
   "outputs": [],
   "source": [
    "data = [[110, 90, 40],\n",
    "        [130, 95, 45]]"
   ]
  },
  {
   "cell_type": "code",
   "execution_count": 11,
   "id": "658fced0",
   "metadata": {},
   "outputs": [
    {
     "name": "stdout",
     "output_type": "stream",
     "text": [
      "Test statistic is 0.332364\n",
      "p-value is 0.846892\n",
      "degree of freedom is 2\n",
      "\n",
      "Conclusion:\n",
      "Since the p-value: 0.85 > or = alpha: 0.05, We fail to reject the null hypothesis.\n"
     ]
    }
   ],
   "source": [
    "# perform the Chi-Square Test of Independence\n",
    "test_stat, p_value, dof, arr = stats.chi2_contingency(data)\n",
    "print('Test statistic is %f'%float(\"{:.6f}\".format(test_stat)))\n",
    "print('p-value is %f'%p_value, end='\\n')\n",
    "print('degree of freedom is', dof, end='\\n\\n' )\n",
    "alpha = 0.05\n",
    "if(p_value>=alpha):\n",
    "    print('Conclusion:','Since the p-value: {:.2f} > or = alpha: {:.2f}, We fail to reject the null hypothesis.'.format(p_value,alpha),sep='\\n')\n",
    "else:\n",
    "    print('Since the p-value: {:.2f} < alpha: {:.2f}, We reject the null hypothesis.'.format(p_value,alpha))"
   ]
  },
  {
   "cell_type": "markdown",
   "id": "86bf2a31",
   "metadata": {},
   "source": [
    "#### NOTE: This means we do not have sufficient evidence to say that there is an association between gender and political party preference."
   ]
  }
 ],
 "metadata": {
  "kernelspec": {
   "display_name": "Python 3",
   "language": "python",
   "name": "python3"
  },
  "language_info": {
   "codemirror_mode": {
    "name": "ipython",
    "version": 3
   },
   "file_extension": ".py",
   "mimetype": "text/x-python",
   "name": "python",
   "nbconvert_exporter": "python",
   "pygments_lexer": "ipython3",
   "version": "3.8.8"
  }
 },
 "nbformat": 4,
 "nbformat_minor": 5
}
